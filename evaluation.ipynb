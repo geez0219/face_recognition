{
 "cells": [
  {
   "cell_type": "code",
   "execution_count": 1,
   "id": "f997d90c",
   "metadata": {},
   "outputs": [],
   "source": [
    "import cv2\n",
    "import numpy as np\n",
    "import insightface\n",
    "from insightface.app import FaceAnalysis\n",
    "from insightface.data import get_image as ins_get_image\n",
    "import pdb\n",
    "import os"
   ]
  },
  {
   "cell_type": "code",
   "execution_count": 2,
   "id": "3b7687b3",
   "metadata": {},
   "outputs": [
    {
     "name": "stdout",
     "output_type": "stream",
     "text": [
      "Applied providers: ['CUDAExecutionProvider', 'CPUExecutionProvider'], with options: {'CPUExecutionProvider': {}, 'CUDAExecutionProvider': {'cudnn_conv_algo_search': 'EXHAUSTIVE', 'do_copy_in_default_stream': '1', 'arena_extend_strategy': 'kNextPowerOfTwo', 'gpu_external_free': '0', 'gpu_external_alloc': '0', 'gpu_mem_limit': '18446744073709551615', 'device_id': '0'}}\n",
      "find model: /home/geez0219/.insightface/models/antelopev2/1k3d68.onnx landmark_3d_68 ['None', 3, 192, 192] 0.0 1.0\n",
      "Applied providers: ['CUDAExecutionProvider', 'CPUExecutionProvider'], with options: {'CPUExecutionProvider': {}, 'CUDAExecutionProvider': {'cudnn_conv_algo_search': 'EXHAUSTIVE', 'do_copy_in_default_stream': '1', 'arena_extend_strategy': 'kNextPowerOfTwo', 'gpu_external_free': '0', 'gpu_external_alloc': '0', 'gpu_mem_limit': '18446744073709551615', 'device_id': '0'}}\n",
      "find model: /home/geez0219/.insightface/models/antelopev2/2d106det.onnx landmark_2d_106 ['None', 3, 192, 192] 0.0 1.0\n",
      "Applied providers: ['CUDAExecutionProvider', 'CPUExecutionProvider'], with options: {'CPUExecutionProvider': {}, 'CUDAExecutionProvider': {'cudnn_conv_algo_search': 'EXHAUSTIVE', 'do_copy_in_default_stream': '1', 'arena_extend_strategy': 'kNextPowerOfTwo', 'gpu_external_free': '0', 'gpu_external_alloc': '0', 'gpu_mem_limit': '18446744073709551615', 'device_id': '0'}}\n",
      "find model: /home/geez0219/.insightface/models/antelopev2/genderage.onnx genderage ['None', 3, 96, 96] 0.0 1.0\n",
      "Applied providers: ['CUDAExecutionProvider', 'CPUExecutionProvider'], with options: {'CPUExecutionProvider': {}, 'CUDAExecutionProvider': {'cudnn_conv_algo_search': 'EXHAUSTIVE', 'do_copy_in_default_stream': '1', 'arena_extend_strategy': 'kNextPowerOfTwo', 'gpu_external_free': '0', 'gpu_external_alloc': '0', 'gpu_mem_limit': '18446744073709551615', 'device_id': '0'}}\n",
      "find model: /home/geez0219/.insightface/models/antelopev2/glintr100.onnx recognition ['None', 3, 112, 112] 127.5 127.5\n",
      "Applied providers: ['CUDAExecutionProvider', 'CPUExecutionProvider'], with options: {'CPUExecutionProvider': {}, 'CUDAExecutionProvider': {'cudnn_conv_algo_search': 'EXHAUSTIVE', 'do_copy_in_default_stream': '1', 'arena_extend_strategy': 'kNextPowerOfTwo', 'gpu_external_free': '0', 'gpu_external_alloc': '0', 'gpu_mem_limit': '18446744073709551615', 'device_id': '0'}}\n",
      "find model: /home/geez0219/.insightface/models/antelopev2/scrfd_10g_bnkps.onnx detection [1, 3, '?', '?'] 127.5 128.0\n",
      "set det-size: (640, 640)\n"
     ]
    }
   ],
   "source": [
    "app = FaceAnalysis()\n",
    "app.prepare(ctx_id=0, det_size=(640, 640))"
   ]
  },
  {
   "cell_type": "code",
   "execution_count": 3,
   "id": "ed6248fa",
   "metadata": {},
   "outputs": [],
   "source": [
    "def get_single_face(img, app):\n",
    "    faces = app.get(img)\n",
    "    if len(faces) > 1:\n",
    "        bbox_area = []\n",
    "        for face in faces:\n",
    "            bbox = face[\"bbox\"]\n",
    "            bbox_area.append((bbox[2] - bbox[0]) * (bbox[3] - bbox[1]))\n",
    "        face = faces[np.argmax(bbox_area)]\n",
    "    else:\n",
    "        face = faces[0]\n",
    "    return face"
   ]
  },
  {
   "cell_type": "code",
   "execution_count": 4,
   "id": "a33293a0",
   "metadata": {},
   "outputs": [],
   "source": [
    "def similarity(vec1, vec2):\n",
    "    return np.dot(vec1, vec2)"
   ]
  },
  {
   "cell_type": "code",
   "execution_count": 20,
   "id": "b0b54fd4",
   "metadata": {},
   "outputs": [],
   "source": [
    "target_path = \"./img/targets\"\n",
    "avg_embedding = {}\n",
    "\n",
    "for name in os.listdir(target_path):\n",
    "    tmp = []\n",
    "    for file in os.scandir(os.path.join(target_path, name)):\n",
    "        if file.is_file():\n",
    "            img = cv2.imread(file.path)\n",
    "            face = get_single_face(img, app)\n",
    "            tmp.append(face.normed_embedding)\n",
    "    tmp = np.mean(tmp, axis=0)\n",
    "    avg_embedding[name] = tmp / np.linalg.norm(tmp)"
   ]
  },
  {
   "cell_type": "code",
   "execution_count": 6,
   "id": "9d8c35b8",
   "metadata": {},
   "outputs": [],
   "source": [
    "def classify(img, app, avg_embedding, threshold=0.5):\n",
    "    vec1 = get_single_face(img, app).normed_embedding\n",
    "    for name, vec2 in avg_embedding.items():\n",
    "        if similarity(vec1, vec2) > threshold:\n",
    "            return name\n",
    "    \n",
    "    return \"other\""
   ]
  },
  {
   "cell_type": "code",
   "execution_count": 7,
   "id": "ff8485aa",
   "metadata": {},
   "outputs": [
    {
     "name": "stdout",
     "output_type": "stream",
     "text": [
      "img:./img/targets/sam/IMG_1098.jpeg sim with lebron is -0.040084246546030045\n",
      "img:./img/targets/sam/IMG_1098.jpeg sim with strong is -0.008054647594690323\n",
      "img:./img/targets/sam/IMG_1098.jpeg sim with jacky is 0.04018164053559303\n",
      "img:./img/targets/sam/IMG_1098.jpeg sim with guo is 0.08803486824035645\n",
      "img:./img/targets/sam/IMG_1098.jpeg sim with yang is 0.07400315999984741\n",
      "img:./img/targets/sam/IMG_1098.jpeg sim with ko is 0.19281646609306335\n",
      "img:./img/targets/sam/IMG_1098.jpeg sim with chung is -0.014713436365127563\n",
      "img:./img/targets/sam/IMG_1098.jpeg sim with mickey is 0.20100605487823486\n",
      "img:./img/targets/sam/IMG_1098.jpeg sim with sam is 0.9249907732009888\n",
      "img:./img/targets/sam/IMG_1098.jpeg sim with president is 0.02157488465309143\n",
      "img:./img/targets/sam/IMG_1051.JPG sim with lebron is -0.0839085727930069\n",
      "img:./img/targets/sam/IMG_1051.JPG sim with strong is -0.0847039669752121\n",
      "img:./img/targets/sam/IMG_1051.JPG sim with jacky is 0.04052487760782242\n",
      "img:./img/targets/sam/IMG_1051.JPG sim with guo is 0.0758337527513504\n",
      "img:./img/targets/sam/IMG_1051.JPG sim with yang is 0.03552532568573952\n",
      "img:./img/targets/sam/IMG_1051.JPG sim with ko is 0.2366803139448166\n",
      "img:./img/targets/sam/IMG_1051.JPG sim with chung is -0.010076210834085941\n",
      "img:./img/targets/sam/IMG_1051.JPG sim with mickey is 0.14488133788108826\n",
      "img:./img/targets/sam/IMG_1051.JPG sim with sam is 0.9249907732009888\n",
      "img:./img/targets/sam/IMG_1051.JPG sim with president is -0.006685175932943821\n"
     ]
    }
   ],
   "source": [
    "for file in os.scandir(os.path.join(target_path, \"sam\")):\n",
    "    img = cv2.imread(file.path)\n",
    "    vec1 = get_single_face(img, app).normed_embedding\n",
    "    for name, vec2 in avg_embedding.items():\n",
    "        print(f\"img:{file.path} sim with {name} is {np.dot(vec1, vec2)}\")"
   ]
  },
  {
   "cell_type": "code",
   "execution_count": 8,
   "id": "34b60d4a",
   "metadata": {},
   "outputs": [
    {
     "name": "stdout",
     "output_type": "stream",
     "text": [
      "img:./img/targets/mickey/IMG_1400.jpeg sim with lebron is -0.09027901291847229\n",
      "img:./img/targets/mickey/IMG_1400.jpeg sim with strong is -0.025192642584443092\n",
      "img:./img/targets/mickey/IMG_1400.jpeg sim with jacky is 0.0827181339263916\n",
      "img:./img/targets/mickey/IMG_1400.jpeg sim with guo is -0.03513738512992859\n",
      "img:./img/targets/mickey/IMG_1400.jpeg sim with yang is 0.1499098688364029\n",
      "img:./img/targets/mickey/IMG_1400.jpeg sim with ko is 0.12093760073184967\n",
      "img:./img/targets/mickey/IMG_1400.jpeg sim with chung is 0.06589789688587189\n",
      "img:./img/targets/mickey/IMG_1400.jpeg sim with mickey is 0.7561917304992676\n",
      "img:./img/targets/mickey/IMG_1400.jpeg sim with sam is 0.14414271712303162\n",
      "img:./img/targets/mickey/IMG_1400.jpeg sim with president is -0.03240840137004852\n",
      "img:./img/targets/mickey/IMG_1183.jpeg sim with lebron is -0.006272859871387482\n",
      "img:./img/targets/mickey/IMG_1183.jpeg sim with strong is -0.055690422654151917\n",
      "img:./img/targets/mickey/IMG_1183.jpeg sim with jacky is 0.02237125299870968\n",
      "img:./img/targets/mickey/IMG_1183.jpeg sim with guo is -0.0529094859957695\n",
      "img:./img/targets/mickey/IMG_1183.jpeg sim with yang is 0.2026905119419098\n",
      "img:./img/targets/mickey/IMG_1183.jpeg sim with ko is 0.05142348259687424\n",
      "img:./img/targets/mickey/IMG_1183.jpeg sim with chung is 0.06394866108894348\n",
      "img:./img/targets/mickey/IMG_1183.jpeg sim with mickey is 0.8335956335067749\n",
      "img:./img/targets/mickey/IMG_1183.jpeg sim with sam is 0.16263073682785034\n",
      "img:./img/targets/mickey/IMG_1183.jpeg sim with president is -0.04014487564563751\n",
      "img:./img/targets/mickey/IMG_1247.jpeg sim with lebron is -0.05215543508529663\n",
      "img:./img/targets/mickey/IMG_1247.jpeg sim with strong is -0.032780975103378296\n",
      "img:./img/targets/mickey/IMG_1247.jpeg sim with jacky is 0.06262560188770294\n",
      "img:./img/targets/mickey/IMG_1247.jpeg sim with guo is -0.025329673662781715\n",
      "img:./img/targets/mickey/IMG_1247.jpeg sim with yang is 0.0957084596157074\n",
      "img:./img/targets/mickey/IMG_1247.jpeg sim with ko is 0.02079680562019348\n",
      "img:./img/targets/mickey/IMG_1247.jpeg sim with chung is 0.10096212476491928\n",
      "img:./img/targets/mickey/IMG_1247.jpeg sim with mickey is 0.8231015205383301\n",
      "img:./img/targets/mickey/IMG_1247.jpeg sim with sam is 0.1382908970117569\n",
      "img:./img/targets/mickey/IMG_1247.jpeg sim with president is 0.018322205170989037\n",
      "img:./img/targets/mickey/IMG_1604.jpeg sim with lebron is -0.04344525188207626\n",
      "img:./img/targets/mickey/IMG_1604.jpeg sim with strong is -0.015807082876563072\n",
      "img:./img/targets/mickey/IMG_1604.jpeg sim with jacky is 0.07859155535697937\n",
      "img:./img/targets/mickey/IMG_1604.jpeg sim with guo is -0.062188901007175446\n",
      "img:./img/targets/mickey/IMG_1604.jpeg sim with yang is 0.059785500168800354\n",
      "img:./img/targets/mickey/IMG_1604.jpeg sim with ko is 0.05945851281285286\n",
      "img:./img/targets/mickey/IMG_1604.jpeg sim with chung is 0.08077728748321533\n",
      "img:./img/targets/mickey/IMG_1604.jpeg sim with mickey is 0.8051554560661316\n",
      "img:./img/targets/mickey/IMG_1604.jpeg sim with sam is 0.17962586879730225\n",
      "img:./img/targets/mickey/IMG_1604.jpeg sim with president is 0.07720815390348434\n",
      "img:./img/targets/mickey/IMG_1543.jpeg sim with lebron is -0.01064634695649147\n",
      "img:./img/targets/mickey/IMG_1543.jpeg sim with strong is -0.01957855001091957\n",
      "img:./img/targets/mickey/IMG_1543.jpeg sim with jacky is 0.15891651809215546\n",
      "img:./img/targets/mickey/IMG_1543.jpeg sim with guo is -0.0017323680222034454\n",
      "img:./img/targets/mickey/IMG_1543.jpeg sim with yang is 0.0897478461265564\n",
      "img:./img/targets/mickey/IMG_1543.jpeg sim with ko is 0.05332973599433899\n",
      "img:./img/targets/mickey/IMG_1543.jpeg sim with chung is -0.00797252170741558\n",
      "img:./img/targets/mickey/IMG_1543.jpeg sim with mickey is 0.7892338633537292\n",
      "img:./img/targets/mickey/IMG_1543.jpeg sim with sam is 0.12454278022050858\n",
      "img:./img/targets/mickey/IMG_1543.jpeg sim with president is 0.038696423172950745\n"
     ]
    }
   ],
   "source": [
    "for file in os.scandir(os.path.join(target_path, \"mickey\")):\n",
    "    img = cv2.imread(file.path)\n",
    "    vec1 = get_single_face(img, app).normed_embedding\n",
    "    for name, vec2 in avg_embedding.items():\n",
    "        print(f\"img:{file.path} sim with {name} is {np.dot(vec1, vec2)}\")"
   ]
  },
  {
   "cell_type": "code",
   "execution_count": 9,
   "id": "fa5a5ea3",
   "metadata": {},
   "outputs": [
    {
     "name": "stdout",
     "output_type": "stream",
     "text": [
      "img:./img/other/0.jpg sim with lebron is -0.12103515863418579\n",
      "img:./img/other/0.jpg sim with strong is -0.009011485613882542\n",
      "img:./img/other/0.jpg sim with jacky is 0.16956645250320435\n",
      "img:./img/other/0.jpg sim with guo is 0.1922370344400406\n",
      "img:./img/other/0.jpg sim with yang is 0.074955515563488\n",
      "img:./img/other/0.jpg sim with ko is -0.0544852539896965\n",
      "img:./img/other/0.jpg sim with chung is 0.03694089874625206\n",
      "img:./img/other/0.jpg sim with mickey is -0.020206531509757042\n",
      "img:./img/other/0.jpg sim with sam is -0.03140083700418472\n",
      "img:./img/other/0.jpg sim with president is -0.0024091508239507675\n",
      "img:./img/other/2.jpg sim with lebron is 0.028178595006465912\n",
      "img:./img/other/2.jpg sim with strong is 0.7691057920455933\n",
      "img:./img/other/2.jpg sim with jacky is -0.018894560635089874\n",
      "img:./img/other/2.jpg sim with guo is 0.05186579003930092\n",
      "img:./img/other/2.jpg sim with yang is 0.004877831786870956\n",
      "img:./img/other/2.jpg sim with ko is -0.04003266245126724\n",
      "img:./img/other/2.jpg sim with chung is -0.1098075732588768\n",
      "img:./img/other/2.jpg sim with mickey is -0.08436384797096252\n",
      "img:./img/other/2.jpg sim with sam is -0.036941900849342346\n",
      "img:./img/other/2.jpg sim with president is 0.012175129726529121\n",
      "img:./img/other/1.jpg sim with lebron is 0.030202817171812057\n",
      "img:./img/other/1.jpg sim with strong is -0.07767108827829361\n",
      "img:./img/other/1.jpg sim with jacky is -0.02990873157978058\n",
      "img:./img/other/1.jpg sim with guo is 0.09486798942089081\n",
      "img:./img/other/1.jpg sim with yang is -0.029773861169815063\n",
      "img:./img/other/1.jpg sim with ko is -0.019866740331053734\n",
      "img:./img/other/1.jpg sim with chung is -0.004846571013331413\n",
      "img:./img/other/1.jpg sim with mickey is -0.017293334007263184\n",
      "img:./img/other/1.jpg sim with sam is -0.004541319794952869\n",
      "img:./img/other/1.jpg sim with president is 0.794519305229187\n"
     ]
    }
   ],
   "source": [
    "for file in os.scandir(\"./img/other\"):\n",
    "    img = cv2.imread(file.path)\n",
    "    vec1 = get_single_face(img, app).normed_embedding\n",
    "    for name, vec2 in avg_embedding.items():\n",
    "        print(f\"img:{file.path} sim with {name} is {np.dot(vec1, vec2)}\")"
   ]
  },
  {
   "cell_type": "markdown",
   "id": "47fbde6e",
   "metadata": {},
   "source": [
    "## Test"
   ]
  },
  {
   "cell_type": "code",
   "execution_count": 10,
   "id": "c6d0d4d4",
   "metadata": {},
   "outputs": [],
   "source": [
    "all_imgs = []\n",
    "for path, dirs, files in os.walk(\"./img\"):\n",
    "    for f in files:\n",
    "        all_imgs.append(os.path.join(path, f))"
   ]
  },
  {
   "cell_type": "code",
   "execution_count": 11,
   "id": "ed6e28e3",
   "metadata": {},
   "outputs": [
    {
     "name": "stdout",
     "output_type": "stream",
     "text": [
      "img:./img/test/guo/founder-m.png is classified as guo\n",
      "img:./img/targets/strong/132542455.jpg is classified as strong\n",
      "img:./img/other/0.jpg is classified as other\n",
      "img:./img/test/other1/1038x768_269745289201.jpg is classified as other\n",
      "img:./img/test/other5/123211.jpg is classified as other\n",
      "img:./img/targets/chung/article-5d6e2fd86e0a2.jpg is classified as chung\n",
      "img:./img/test/chung/php2nLagb.jpg is classified as chung\n",
      "img:./img/targets/mickey/IMG_1183.jpeg is classified as mickey\n",
      "img:./img/targets/ko/20201113005225.jpg is classified as ko\n",
      "img:./img/targets/chung/article-5d6e2fd86e0a2.jpg is classified as chung\n"
     ]
    }
   ],
   "source": [
    "for img_path in np.random.choice(all_imgs, 10):\n",
    "    img = cv2.imread(img_path)\n",
    "    print(f\"img:{img_path} is classified as {classify(img, app, avg_embedding)}\")"
   ]
  },
  {
   "cell_type": "code",
   "execution_count": 15,
   "id": "20b67f56",
   "metadata": {},
   "outputs": [],
   "source": [
    "test_path = \"./img/test\"\n",
    "test_embedding = {}\n",
    "\n",
    "for name in os.listdir(test_path):\n",
    "    tmp = []\n",
    "    for file in os.scandir(os.path.join(test_path, name)):\n",
    "        if file.is_file():\n",
    "            img = cv2.imread(file.path)\n",
    "            face = get_single_face(img, app)\n",
    "            tmp.append(face.normed_embedding)\n",
    "    test_embedding[name] = tmp"
   ]
  },
  {
   "cell_type": "code",
   "execution_count": 28,
   "id": "c6e08ad5",
   "metadata": {},
   "outputs": [],
   "source": [
    "def classify_from_vec(embedding, avg_embedding, threshold=0.5):\n",
    "    for name, vec in avg_embedding.items():\n",
    "        if similarity(embedding, vec) > threshold:\n",
    "            return name\n",
    "        \n",
    "    return \"other\""
   ]
  },
  {
   "cell_type": "code",
   "execution_count": 30,
   "id": "0ed4fa93",
   "metadata": {},
   "outputs": [],
   "source": [
    "def get_group_state(threshold, test_embedding, avg_embedding):\n",
    "    TP, FP, FN, TN = 0, 0, 0, 0\n",
    "    for label, vecs in test_embedding.items():\n",
    "        for vec in vecs:\n",
    "            predicted = classify_from_vec(vec, avg_embedding, threshold)\n",
    "            if not label.startswith(\"other\") and predicted != \"other\":\n",
    "                TP += 1\n",
    "            elif label.startswith(\"other\") and predicted != \"other\":\n",
    "                FP += 1\n",
    "            elif not label.startswith(\"other\") and predicted == \"other\":\n",
    "                FN += 1\n",
    "            else:\n",
    "                TN += 1\n",
    "    return TP, FP, FN, TN"
   ]
  },
  {
   "cell_type": "code",
   "execution_count": 47,
   "id": "300e7909",
   "metadata": {},
   "outputs": [],
   "source": [
    "def plot_ROC_curve(test_embedding, avg_embedding, points=100):\n",
    "    import matplotlib.pyplot as plt\n",
    "    thresholds = np.linspace(0, 1, points)\n",
    "    \n",
    "    precisions = []\n",
    "    recalls = []\n",
    "    t_pre = []\n",
    "    t_rec = []\n",
    "    for t in thresholds:\n",
    "        TP, FP, FN, TN = get_group_state(t, test_embedding, avg_embedding)\n",
    "        if (TP + FP) != 0:\n",
    "            precisions.append(TP / (TP + FP))\n",
    "            t_pre.append(t)\n",
    "        if (TP + FN) != 0:\n",
    "            recalls.append(TP / (TP + FN))\n",
    "            t_rec.append(t)\n",
    "        \n",
    "    fig, ax = plt.subplots()\n",
    "\n",
    "    # Using set_dashes() to modify dashing of an existing line\n",
    "    line1, = ax.plot(t_pre, precisions, label='precision')\n",
    "    line1.set_dashes([2, 2, 10, 2])  # 2pt line, 2pt break, 10pt line, 2pt break\n",
    "\n",
    "    # Using plot(..., dashes=...) to set the dashing when creating a line\n",
    "    line2, = ax.plot(t_rec, recalls, label='recall')\n",
    "\n",
    "    ax.legend()\n",
    "    plt.show()"
   ]
  },
  {
   "cell_type": "code",
   "execution_count": 48,
   "id": "8385c39d",
   "metadata": {},
   "outputs": [
    {
     "data": {
      "image/png": "[encoded data removed]",
      "text/plain": [
       "<Figure size 432x288 with 1 Axes>"
      ]
     },
     "metadata": {
      "needs_background": "light"
     },
     "output_type": "display_data"
    }
   ],
   "source": [
    "plot_ROC_curve(test_embedding, avg_embedding, points=100)"
   ]
  },
  {
   "cell_type": "code",
   "execution_count": null,
   "id": "fac161bc",
   "metadata": {},
   "outputs": [],
   "source": []
  }
 ],
 "metadata": {
  "kernelspec": {
   "display_name": "face",
   "language": "python",
   "name": "face"
  },
  "language_info": {
   "codemirror_mode": {
    "name": "ipython",
    "version": 3
   },
   "file_extension": ".py",
   "mimetype": "text/x-python",
   "name": "python",
   "nbconvert_exporter": "python",
   "pygments_lexer": "ipython3",
   "version": "3.6.13"
  }
 },
 "nbformat": 4,
 "nbformat_minor": 5
}
