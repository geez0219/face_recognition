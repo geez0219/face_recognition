{
 "cells": [
  {
   "cell_type": "code",
   "execution_count": 10,
   "id": "f997d90c",
   "metadata": {},
   "outputs": [],
   "source": [
    "from face_recognition import FaceRecognition\n",
    "import cv2\n",
    "import numpy as np\n",
    "import os"
   ]
  },
  {
   "cell_type": "code",
   "execution_count": 2,
   "id": "3b7687b3",
   "metadata": {},
   "outputs": [
    {
     "name": "stdout",
     "output_type": "stream",
     "text": [
      "Applied providers: ['CUDAExecutionProvider', 'CPUExecutionProvider'], with options: {'CPUExecutionProvider': {}, 'CUDAExecutionProvider': {'cudnn_conv_algo_search': 'EXHAUSTIVE', 'do_copy_in_default_stream': '1', 'arena_extend_strategy': 'kNextPowerOfTwo', 'gpu_external_free': '0', 'gpu_external_alloc': '0', 'gpu_mem_limit': '18446744073709551615', 'device_id': '0'}}\n",
      "find model: /home/geez0219/.insightface/models/buffalo_l/1k3d68.onnx landmark_3d_68 ['None', 3, 192, 192] 0.0 1.0\n",
      "Applied providers: ['CUDAExecutionProvider', 'CPUExecutionProvider'], with options: {'CPUExecutionProvider': {}, 'CUDAExecutionProvider': {'cudnn_conv_algo_search': 'EXHAUSTIVE', 'do_copy_in_default_stream': '1', 'arena_extend_strategy': 'kNextPowerOfTwo', 'gpu_external_free': '0', 'gpu_external_alloc': '0', 'gpu_mem_limit': '18446744073709551615', 'device_id': '0'}}\n",
      "find model: /home/geez0219/.insightface/models/buffalo_l/2d106det.onnx landmark_2d_106 ['None', 3, 192, 192] 0.0 1.0\n",
      "Applied providers: ['CUDAExecutionProvider', 'CPUExecutionProvider'], with options: {'CPUExecutionProvider': {}, 'CUDAExecutionProvider': {'cudnn_conv_algo_search': 'EXHAUSTIVE', 'do_copy_in_default_stream': '1', 'arena_extend_strategy': 'kNextPowerOfTwo', 'gpu_external_free': '0', 'gpu_external_alloc': '0', 'gpu_mem_limit': '18446744073709551615', 'device_id': '0'}}\n",
      "find model: /home/geez0219/.insightface/models/buffalo_l/det_10g.onnx detection [1, 3, '?', '?'] 127.5 128.0\n",
      "Applied providers: ['CUDAExecutionProvider', 'CPUExecutionProvider'], with options: {'CPUExecutionProvider': {}, 'CUDAExecutionProvider': {'cudnn_conv_algo_search': 'EXHAUSTIVE', 'do_copy_in_default_stream': '1', 'arena_extend_strategy': 'kNextPowerOfTwo', 'gpu_external_free': '0', 'gpu_external_alloc': '0', 'gpu_mem_limit': '18446744073709551615', 'device_id': '0'}}\n",
      "find model: /home/geez0219/.insightface/models/buffalo_l/genderage.onnx genderage ['None', 3, 96, 96] 0.0 1.0\n",
      "Applied providers: ['CUDAExecutionProvider', 'CPUExecutionProvider'], with options: {'CPUExecutionProvider': {}, 'CUDAExecutionProvider': {'cudnn_conv_algo_search': 'EXHAUSTIVE', 'do_copy_in_default_stream': '1', 'arena_extend_strategy': 'kNextPowerOfTwo', 'gpu_external_free': '0', 'gpu_external_alloc': '0', 'gpu_mem_limit': '18446744073709551615', 'device_id': '0'}}\n",
      "find model: /home/geez0219/.insightface/models/buffalo_l/w600k_r50.onnx recognition ['None', 3, 112, 112] 127.5 127.5\n",
      "set det-size: (640, 640)\n"
     ]
    }
   ],
   "source": [
    "app = FaceRecognition()\n",
    "app.prepare(ctx_id=0, det_size=(640, 640))\n",
    "app.read_facebase(\"./img/targets\")"
   ]
  },
  {
   "cell_type": "markdown",
   "id": "47fbde6e",
   "metadata": {},
   "source": [
    "## Test"
   ]
  },
  {
   "cell_type": "code",
   "execution_count": 3,
   "id": "20b67f56",
   "metadata": {},
   "outputs": [],
   "source": [
    "test_path = \"./img/test\"\n",
    "test_embedding = {}\n",
    "\n",
    "for name in os.listdir(test_path):\n",
    "    tmp = []\n",
    "    for file in os.scandir(os.path.join(test_path, name)):\n",
    "        if file.is_file():\n",
    "            img = cv2.imread(file.path)\n",
    "            tmp.append(app.get_single_features(img))\n",
    "    test_embedding[name] = tmp"
   ]
  },
  {
   "cell_type": "code",
   "execution_count": 12,
   "id": "0ed4fa93",
   "metadata": {},
   "outputs": [],
   "source": [
    "def get_group_state(threshold, test_embedding, app):\n",
    "    TP, FP, FN, TN = 0, 0, 0, 0\n",
    "    for label, vecs in test_embedding.items():\n",
    "        for vec in vecs:\n",
    "            if vec is None:\n",
    "                continue\n",
    "            predicted = app.classify(vec, threshold)\n",
    "            if not label.startswith(\"other\") and predicted != \"other\":\n",
    "                TP += 1\n",
    "            elif label.startswith(\"other\") and predicted != \"other\":\n",
    "                FP += 1\n",
    "            elif not label.startswith(\"other\") and predicted == \"other\":\n",
    "                FN += 1\n",
    "            else:\n",
    "                TN += 1\n",
    "    return TP, FP, FN, TN"
   ]
  },
  {
   "cell_type": "code",
   "execution_count": 13,
   "id": "300e7909",
   "metadata": {},
   "outputs": [],
   "source": [
    "def plot_ROC_curve(test_embedding, app, points=100):\n",
    "    import matplotlib.pyplot as plt\n",
    "    thresholds = np.linspace(0, 1, points)\n",
    "    \n",
    "    precisions = []\n",
    "    recalls = []\n",
    "    t_pre = []\n",
    "    t_rec = []\n",
    "    for t in thresholds:\n",
    "        TP, FP, FN, TN = get_group_state(t, test_embedding, app)\n",
    "        if (TP + FP) != 0:\n",
    "            precisions.append(TP / (TP + FP))\n",
    "            t_pre.append(t)\n",
    "        if (TP + FN) != 0:\n",
    "            recalls.append(TP / (TP + FN))\n",
    "            t_rec.append(t)\n",
    "        \n",
    "    fig, ax = plt.subplots()\n",
    "\n",
    "    # Using set_dashes() to modify dashing of an existing line\n",
    "    line1, = ax.plot(t_pre, precisions, label='precision')\n",
    "    line1.set_dashes([2, 2, 10, 2])  # 2pt line, 2pt break, 10pt line, 2pt break\n",
    "\n",
    "    # Using plot(..., dashes=...) to set the dashing when creating a line\n",
    "    line2, = ax.plot(t_rec, recalls, label='recall')\n",
    "\n",
    "    ax.legend()\n",
    "    plt.show()"
   ]
  },
  {
   "cell_type": "code",
   "execution_count": 14,
   "id": "8385c39d",
   "metadata": {},
   "outputs": [
    {
     "data": {
      "image/png": "[encoded data removed]",
      "text/plain": [
       "<Figure size 432x288 with 1 Axes>"
      ]
     },
     "metadata": {
      "needs_background": "light"
     },
     "output_type": "display_data"
    }
   ],
   "source": [
    "plot_ROC_curve(test_embedding, app, points=100)"
   ]
  },
  {
   "cell_type": "code",
   "execution_count": null,
   "id": "fac161bc",
   "metadata": {},
   "outputs": [],
   "source": []
  }
 ],
 "metadata": {
  "kernelspec": {
   "display_name": "face",
   "language": "python",
   "name": "face"
  },
  "language_info": {
   "codemirror_mode": {
    "name": "ipython",
    "version": 3
   },
   "file_extension": ".py",
   "mimetype": "text/x-python",
   "name": "python",
   "nbconvert_exporter": "python",
   "pygments_lexer": "ipython3",
   "version": "3.6.13"
  }
 },
 "nbformat": 4,
 "nbformat_minor": 5
}
